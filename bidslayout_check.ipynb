{
 "cells": [
  {
   "cell_type": "code",
   "execution_count": 1,
   "id": "05211010-771f-4df6-983c-2d3fb30be04e",
   "metadata": {
    "tags": []
   },
   "outputs": [],
   "source": [
    "from bids.layout import BIDSLayout"
   ]
  },
  {
   "cell_type": "code",
   "execution_count": 20,
   "id": "418202e6-93ca-4257-a816-44bec36358ab",
   "metadata": {
    "tags": []
   },
   "outputs": [
    {
     "data": {
      "text/plain": [
       "['anat', 'dwi', 'fmap', 'swi']"
      ]
     },
     "execution_count": 20,
     "metadata": {},
     "output_type": "execute_result"
    }
   ],
   "source": [
    "layout = BIDSLayout(\n",
    "    '/Users/taylor/Documents/datasets/nibs/dset', \n",
    "    config='nibs_bids_config.json',\n",
    "    validate=False,\n",
    ")\n",
    "layout.get_datatypes()"
   ]
  },
  {
   "cell_type": "code",
   "execution_count": 7,
   "id": "b187c0bb-0ecd-4a62-af77-391679ad5f0e",
   "metadata": {
    "tags": []
   },
   "outputs": [
    {
     "data": {
      "text/plain": [
       "{'subject': <Entity subject (pattern=[/\\\\]+sub-([a-zA-Z0-9+]+), dtype=<class 'str'>)>,\n",
       " 'session': <Entity session (pattern=[_/\\\\]+ses-([a-zA-Z0-9+]+), dtype=<class 'str'>)>,\n",
       " 'sample': <Entity sample (pattern=[_/\\\\]+sample-([a-zA-Z0-9+]+), dtype=<class 'str'>)>,\n",
       " 'task': <Entity task (pattern=[_/\\\\]+task-([a-zA-Z0-9+]+), dtype=<class 'str'>)>,\n",
       " 'tracksys': <Entity tracksys (pattern=[_/\\\\]+tracksys-([a-zA-Z0-9+]+), dtype=<class 'str'>)>,\n",
       " 'acquisition': <Entity acquisition (pattern=[_/\\\\]+acq-([a-zA-Z0-9+]+), dtype=<class 'str'>)>,\n",
       " 'nucleus': <Entity nucleus (pattern=[_/\\\\]+nuc-([a-zA-Z0-9+]+), dtype=<class 'str'>)>,\n",
       " 'volume': <Entity volume (pattern=[_/\\\\]+voi-([a-zA-Z0-9+]+), dtype=<class 'str'>)>,\n",
       " 'ceagent': <Entity ceagent (pattern=[_/\\\\]+ce-([a-zA-Z0-9+]+), dtype=<class 'str'>)>,\n",
       " 'staining': <Entity staining (pattern=[_/\\\\]+stain-([a-zA-Z0-9+]+), dtype=<class 'str'>)>,\n",
       " 'tracer': <Entity tracer (pattern=[_/\\\\]+trc-([a-zA-Z0-9+]+), dtype=<class 'str'>)>,\n",
       " 'reconstruction': <Entity reconstruction (pattern=[_/\\\\]+rec-([a-zA-Z0-9+]+), dtype=<class 'str'>)>,\n",
       " 'direction': <Entity direction (pattern=[_/\\\\]+dir-([a-zA-Z0-9+]+), dtype=<class 'str'>)>,\n",
       " 'run': <Entity run (pattern=[_/\\\\]+run-(\\d+), dtype=<class 'bids.layout.utils.PaddedInt'>)>,\n",
       " 'proc': <Entity proc (pattern=[_/\\\\]+proc-([a-zA-Z0-9+]+), dtype=<class 'str'>)>,\n",
       " 'modality': <Entity modality (pattern=[_/\\\\]+mod-([a-zA-Z0-9+]+), dtype=<class 'str'>)>,\n",
       " 'echo': <Entity echo (pattern=[_/\\\\]+echo-([0-9]+), dtype=<class 'str'>)>,\n",
       " 'flip': <Entity flip (pattern=[_/\\\\]+flip-([0-9]+), dtype=<class 'str'>)>,\n",
       " 'inv': <Entity inv (pattern=[_/\\\\]+inv-([0-9]+), dtype=<class 'str'>)>,\n",
       " 'mt': <Entity mt (pattern=[_/\\\\]+mt-(on|off), dtype=<class 'str'>)>,\n",
       " 'part': <Entity part (pattern=[_/\\\\]+part-(imag|mag|phase|real), dtype=<class 'str'>)>,\n",
       " 'recording': <Entity recording (pattern=[_/\\\\]+recording-([a-zA-Z0-9+]+), dtype=<class 'str'>)>,\n",
       " 'space': <Entity space (pattern=[_/\\\\]+space-([a-zA-Z0-9+]+), dtype=<class 'str'>)>,\n",
       " 'chunk': <Entity chunk (pattern=[_/\\\\]+chunk-([0-9]+), dtype=<class 'str'>)>,\n",
       " 'suffix': <Entity suffix (pattern=(?:^|[_/\\\\])([a-zA-Z0-9+]+)\\.[^/\\\\]+$, dtype=<class 'str'>)>,\n",
       " 'scans': <Entity scans (pattern=(.*\\_scans.tsv)$, dtype=<class 'str'>)>,\n",
       " 'fmap': <Entity fmap (pattern=(phasediff|magnitude[1-2]|phase[1-2]|fieldmap|epi)\\.nii, dtype=<class 'str'>)>,\n",
       " 'datatype': <Entity datatype (pattern=[/\\\\]+(anat|beh|dwi|eeg|fmap|func|ieeg|meg|micr|motion|mrs|nirs|perf|pet|swi)[/\\\\]+, dtype=<class 'str'>)>,\n",
       " 'extension': <Entity extension (pattern=[^./\\\\](\\.[^/\\\\]+)$, dtype=<class 'str'>)>,\n",
       " 'participant_id': <Entity participant_id (pattern=None, dtype=<class 'str'>)>,\n",
       " 'age': <Entity age (pattern=None, dtype=<class 'str'>)>,\n",
       " 'sex': <Entity sex (pattern=None, dtype=<class 'str'>)>,\n",
       " 'group': <Entity group (pattern=None, dtype=<class 'str'>)>,\n",
       " 'AcquisitionMatrixPE': <Entity AcquisitionMatrixPE (pattern=None, dtype=<class 'str'>)>,\n",
       " 'AcquisitionNumber': <Entity AcquisitionNumber (pattern=None, dtype=<class 'str'>)>,\n",
       " 'BaseResolution': <Entity BaseResolution (pattern=None, dtype=<class 'str'>)>,\n",
       " 'BodyPartExamined': <Entity BodyPartExamined (pattern=None, dtype=<class 'str'>)>,\n",
       " 'CoilCombinationMethod': <Entity CoilCombinationMethod (pattern=None, dtype=<class 'str'>)>,\n",
       " 'ConsistencyInfo': <Entity ConsistencyInfo (pattern=None, dtype=<class 'str'>)>,\n",
       " 'ConversionSoftware': <Entity ConversionSoftware (pattern=None, dtype=<class 'str'>)>,\n",
       " 'ConversionSoftwareVersion': <Entity ConversionSoftwareVersion (pattern=None, dtype=<class 'str'>)>,\n",
       " 'DeviceSerialNumber': <Entity DeviceSerialNumber (pattern=None, dtype=<class 'str'>)>,\n",
       " 'EchoTime': <Entity EchoTime (pattern=None, dtype=<class 'str'>)>,\n",
       " 'FlipAngle': <Entity FlipAngle (pattern=None, dtype=<class 'str'>)>,\n",
       " 'HeudiconvVersion': <Entity HeudiconvVersion (pattern=None, dtype=<class 'str'>)>,\n",
       " 'ImageOrientationPatientDICOM': <Entity ImageOrientationPatientDICOM (pattern=None, dtype=<class 'str'>)>,\n",
       " 'ImageType': <Entity ImageType (pattern=None, dtype=<class 'str'>)>,\n",
       " 'ImagingFrequency': <Entity ImagingFrequency (pattern=None, dtype=<class 'str'>)>,\n",
       " 'InPlanePhaseEncodingDirectionDICOM': <Entity InPlanePhaseEncodingDirectionDICOM (pattern=None, dtype=<class 'str'>)>,\n",
       " 'InstitutionName': <Entity InstitutionName (pattern=None, dtype=<class 'str'>)>,\n",
       " 'InversionTime': <Entity InversionTime (pattern=None, dtype=<class 'str'>)>,\n",
       " 'MRAcquisitionType': <Entity MRAcquisitionType (pattern=None, dtype=<class 'str'>)>,\n",
       " 'MagneticFieldStrength': <Entity MagneticFieldStrength (pattern=None, dtype=<class 'str'>)>,\n",
       " 'Manufacturer': <Entity Manufacturer (pattern=None, dtype=<class 'str'>)>,\n",
       " 'ManufacturersModelName': <Entity ManufacturersModelName (pattern=None, dtype=<class 'str'>)>,\n",
       " 'MatrixCoilMode': <Entity MatrixCoilMode (pattern=None, dtype=<class 'str'>)>,\n",
       " 'Modality': <Entity Modality (pattern=None, dtype=<class 'str'>)>,\n",
       " 'ParallelReductionFactorInPlane': <Entity ParallelReductionFactorInPlane (pattern=None, dtype=<class 'str'>)>,\n",
       " 'PartialFourier': <Entity PartialFourier (pattern=None, dtype=<class 'str'>)>,\n",
       " 'PatientPosition': <Entity PatientPosition (pattern=None, dtype=<class 'str'>)>,\n",
       " 'PercentPhaseFOV': <Entity PercentPhaseFOV (pattern=None, dtype=<class 'str'>)>,\n",
       " 'PercentSampling': <Entity PercentSampling (pattern=None, dtype=<class 'str'>)>,\n",
       " 'PhaseEncodingSteps': <Entity PhaseEncodingSteps (pattern=None, dtype=<class 'str'>)>,\n",
       " 'PhaseResolution': <Entity PhaseResolution (pattern=None, dtype=<class 'str'>)>,\n",
       " 'PixelBandwidth': <Entity PixelBandwidth (pattern=None, dtype=<class 'str'>)>,\n",
       " 'ProcedureStepDescription': <Entity ProcedureStepDescription (pattern=None, dtype=<class 'str'>)>,\n",
       " 'ProtocolName': <Entity ProtocolName (pattern=None, dtype=<class 'str'>)>,\n",
       " 'PulseSequenceDetails': <Entity PulseSequenceDetails (pattern=None, dtype=<class 'str'>)>,\n",
       " 'ReceiveCoilActiveElements': <Entity ReceiveCoilActiveElements (pattern=None, dtype=<class 'str'>)>,\n",
       " 'ReceiveCoilName': <Entity ReceiveCoilName (pattern=None, dtype=<class 'str'>)>,\n",
       " 'ReconMatrixPE': <Entity ReconMatrixPE (pattern=None, dtype=<class 'str'>)>,\n",
       " 'RefLinesPE': <Entity RefLinesPE (pattern=None, dtype=<class 'str'>)>,\n",
       " 'RepetitionTime': <Entity RepetitionTime (pattern=None, dtype=<class 'str'>)>,\n",
       " 'SAR': <Entity SAR (pattern=None, dtype=<class 'str'>)>,\n",
       " 'ScanOptions': <Entity ScanOptions (pattern=None, dtype=<class 'str'>)>,\n",
       " 'ScanningSequence': <Entity ScanningSequence (pattern=None, dtype=<class 'str'>)>,\n",
       " 'SequenceName': <Entity SequenceName (pattern=None, dtype=<class 'str'>)>,\n",
       " 'SequenceVariant': <Entity SequenceVariant (pattern=None, dtype=<class 'str'>)>,\n",
       " 'SeriesDescription': <Entity SeriesDescription (pattern=None, dtype=<class 'str'>)>,\n",
       " 'SeriesNumber': <Entity SeriesNumber (pattern=None, dtype=<class 'str'>)>,\n",
       " 'ShimSetting': <Entity ShimSetting (pattern=None, dtype=<class 'str'>)>,\n",
       " 'SliceThickness': <Entity SliceThickness (pattern=None, dtype=<class 'str'>)>,\n",
       " 'SoftwareVersions': <Entity SoftwareVersions (pattern=None, dtype=<class 'str'>)>,\n",
       " 'SpoilingState': <Entity SpoilingState (pattern=None, dtype=<class 'str'>)>,\n",
       " 'StationName': <Entity StationName (pattern=None, dtype=<class 'str'>)>,\n",
       " 'TxRefAmp': <Entity TxRefAmp (pattern=None, dtype=<class 'str'>)>,\n",
       " 'EchoTrainLength': <Entity EchoTrainLength (pattern=None, dtype=<class 'str'>)>,\n",
       " 'PhaseEncodingDirection': <Entity PhaseEncodingDirection (pattern=None, dtype=<class 'str'>)>,\n",
       " 'NumberShots': <Entity NumberShots (pattern=None, dtype=<class 'str'>)>,\n",
       " 'RepetitionTimeExcitation': <Entity RepetitionTimeExcitation (pattern=None, dtype=<class 'str'>)>,\n",
       " 'RepetitionTimePreparation': <Entity RepetitionTimePreparation (pattern=None, dtype=<class 'str'>)>,\n",
       " 'RawImage': <Entity RawImage (pattern=None, dtype=<class 'str'>)>,\n",
       " 'BandwidthPerPixelPhaseEncode': <Entity BandwidthPerPixelPhaseEncode (pattern=None, dtype=<class 'str'>)>,\n",
       " 'DerivedVendorReportedEchoSpacing': <Entity DerivedVendorReportedEchoSpacing (pattern=None, dtype=<class 'str'>)>,\n",
       " 'DiffusionScheme': <Entity DiffusionScheme (pattern=None, dtype=<class 'str'>)>,\n",
       " 'EffectiveEchoSpacing': <Entity EffectiveEchoSpacing (pattern=None, dtype=<class 'str'>)>,\n",
       " 'MultibandAccelerationFactor': <Entity MultibandAccelerationFactor (pattern=None, dtype=<class 'str'>)>,\n",
       " 'SliceTiming': <Entity SliceTiming (pattern=None, dtype=<class 'str'>)>,\n",
       " 'SpacingBetweenSlices': <Entity SpacingBetweenSlices (pattern=None, dtype=<class 'str'>)>,\n",
       " 'TotalReadoutTime': <Entity TotalReadoutTime (pattern=None, dtype=<class 'str'>)>,\n",
       " 'WipMemBlock': <Entity WipMemBlock (pattern=None, dtype=<class 'str'>)>,\n",
       " 'Units': <Entity Units (pattern=None, dtype=<class 'str'>)>}"
      ]
     },
     "execution_count": 7,
     "metadata": {},
     "output_type": "execute_result"
    }
   ],
   "source": [
    "layout"
   ]
  },
  {
   "cell_type": "code",
   "execution_count": 4,
   "id": "3a2e1582-8a2a-414d-b746-009b7cdcd771",
   "metadata": {
    "tags": []
   },
   "outputs": [
    {
     "name": "stdout",
     "output_type": "stream",
     "text": [
      "0.18.1\n"
     ]
    }
   ],
   "source": [
    "import bids\n",
    "print(bids.__version__)"
   ]
  },
  {
   "cell_type": "code",
   "execution_count": 13,
   "id": "61ef5d59-e499-408b-81a7-85586f7b4097",
   "metadata": {
    "tags": []
   },
   "outputs": [
    {
     "ename": "ValueError",
     "evalue": "Unable to construct build path with source {'subject': '01', 'suffix': 'ihMTRAGE'}",
     "output_type": "error",
     "traceback": [
      "\u001b[0;31m---------------------------------------------------------------------------\u001b[0m",
      "\u001b[0;31mValueError\u001b[0m                                Traceback (most recent call last)",
      "Cell \u001b[0;32mIn[13], line 1\u001b[0m\n\u001b[0;32m----> 1\u001b[0m \u001b[43mlayout\u001b[49m\u001b[38;5;241;43m.\u001b[39;49m\u001b[43mbuild_path\u001b[49m\u001b[43m(\u001b[49m\u001b[43m{\u001b[49m\u001b[38;5;124;43m'\u001b[39;49m\u001b[38;5;124;43msubject\u001b[39;49m\u001b[38;5;124;43m'\u001b[39;49m\u001b[43m:\u001b[49m\u001b[43m \u001b[49m\u001b[38;5;124;43m'\u001b[39;49m\u001b[38;5;124;43m01\u001b[39;49m\u001b[38;5;124;43m'\u001b[39;49m\u001b[43m,\u001b[49m\u001b[43m \u001b[49m\u001b[38;5;124;43m'\u001b[39;49m\u001b[38;5;124;43msuffix\u001b[39;49m\u001b[38;5;124;43m'\u001b[39;49m\u001b[43m:\u001b[49m\u001b[43m \u001b[49m\u001b[38;5;124;43m'\u001b[39;49m\u001b[38;5;124;43mihMTRAGE\u001b[39;49m\u001b[38;5;124;43m'\u001b[39;49m\u001b[43m}\u001b[49m\u001b[43m)\u001b[49m\n",
      "File \u001b[0;32m/opt/miniconda3/envs/salo/lib/python3.9/site-packages/bids/layout/layout.py:1284\u001b[0m, in \u001b[0;36mBIDSLayout.build_path\u001b[0;34m(self, source, path_patterns, strict, scope, validate, absolute_paths)\u001b[0m\n\u001b[1;32m   1282\u001b[0m built \u001b[38;5;241m=\u001b[39m build_path(source, path_patterns, strict)\n\u001b[1;32m   1283\u001b[0m \u001b[38;5;28;01mif\u001b[39;00m built \u001b[38;5;129;01mis\u001b[39;00m \u001b[38;5;28;01mNone\u001b[39;00m:\n\u001b[0;32m-> 1284\u001b[0m     \u001b[38;5;28;01mraise\u001b[39;00m \u001b[38;5;167;01mValueError\u001b[39;00m(\n\u001b[1;32m   1285\u001b[0m         \u001b[38;5;124m\"\u001b[39m\u001b[38;5;124mUnable to construct build path with source \u001b[39m\u001b[38;5;132;01m{}\u001b[39;00m\u001b[38;5;124m\"\u001b[39m\u001b[38;5;241m.\u001b[39mformat(source))\n\u001b[1;32m   1286\u001b[0m to_check \u001b[38;5;241m=\u001b[39m Path(\u001b[38;5;124m'\u001b[39m\u001b[38;5;124m/\u001b[39m\u001b[38;5;124m'\u001b[39m)\u001b[38;5;241m.\u001b[39mjoinpath(built)\u001b[38;5;241m.\u001b[39mas_posix()\n\u001b[1;32m   1288\u001b[0m \u001b[38;5;28;01mif\u001b[39;00m validate \u001b[38;5;129;01mand\u001b[39;00m \u001b[38;5;129;01mnot\u001b[39;00m BIDSValidator()\u001b[38;5;241m.\u001b[39mis_bids(to_check):\n",
      "\u001b[0;31mValueError\u001b[0m: Unable to construct build path with source {'subject': '01', 'suffix': 'ihMTRAGE'}"
     ]
    }
   ],
   "source": [
    "layout.build_path({'subject': '01', 'suffix': 'ihMTRAGE'})"
   ]
  },
  {
   "cell_type": "code",
   "execution_count": 17,
   "id": "a7013550-6887-46a6-ad8c-acbed3a6bf69",
   "metadata": {
    "tags": []
   },
   "outputs": [
    {
     "data": {
      "text/plain": [
       "['sub-{subject}[/ses-{session}]/{datatype<anat>|anat}/sub-{subject}[_ses-{session}][_task-{task}]_acq-{acquisition<singlepos|singleneg|nosat|dual1|dual2>}[_ce-{ceagent}][_rec-{reconstruction}][_run-{run}][_echo-{echo}]_mt-{mt<on|off>}[_part-{part}][_chunk-{chunk}]_{suffix<ihMTRAGE>}{extension<.nii|.nii.gz|.json>|.nii.gz}',\n",
       " 'sub-{subject}[/ses-{session}]/{datatype<anat>|anat}/sub-{subject}[_ses-{session}][_acq-{acquisition}][_ce-{ceagent}][_rec-{reconstruction}][_dir-{direction}][_run-{run}]_echo-{echo}[_part-{part<mag|phase|real|imag>}]_{suffix<MEGRE|MESE>}{extension<.nii|.nii.gz|.json>|.nii.gz}',\n",
       " 'sub-{subject}[/ses-{session}]/{datatype<swi>|swi}/sub-{subject}[_ses-{session}][_acq-{acquisition}][_ce-{ceagent}][_rec-{reconstruction}][_dir-{direction}][_run-{run}][_echo-{echo}][_part-{part<mag|phase|real|imag>}]_{suffix<swi>}{extension<.nii|.nii.gz|.json>|.nii.gz}',\n",
       " 'sub-{subject}[/ses-{session}]/{datatype<anat>|anat}/sub-{subject}[_ses-{session}][_task-{task}][_acq-{acquisition}][_ce-{ceagent}][_rec-{reconstruction}][_run-{run}][_echo-{echo}][_part-{part}][_chunk-{chunk}]_{suffix<T1w|T2w|T2star|T2starw|FLAIR|FLASH|PD|PDw|PDT2|inplaneT[12]|angio>}{extension<.nii|.nii.gz|.json>|.nii.gz}',\n",
       " 'sub-{subject}[/ses-{session}]/{datatype<anat>|anat}/sub-{subject}[_ses-{session}][_task-{task}][_acq-{acquisition}][_ce-{ceagent}][_rec-{reconstruction}][_run-{run}][_mod-{modality}]_{suffix<defacemask>}{extension<.nii|.nii.gz|.json>|.nii.gz}',\n",
       " 'sub-{subject}[/ses-{session}]/{datatype<func>|func}/sub-{subject}[_ses-{session}]_task-{task}[_acq-{acquisition}][_ce-{ceagent}][_rec-{reconstruction}][_dir-{direction}][_run-{run}][_echo-{echo}][_part-{part}]_{suffix<bold|cbv|sbref>}{extension<.nii|.nii.gz|.json>|.nii.gz}',\n",
       " 'sub-{subject}[/ses-{session}]/{datatype<func>|func}/sub-{subject}[_ses-{session}]_task-{task}[_acq-{acquisition}][_ce-{ceagent}][_rec-{reconstruction}][_dir-{direction}][_run-{run}][_echo-{echo}]_{suffix<phase>}{extension<.nii|.nii.gz|.json>|.nii.gz}',\n",
       " 'sub-{subject}[/ses-{session}]/{datatype<dwi>|dwi}/sub-{subject}[_ses-{session}][_acq-{acquisition}][_rec-{reconstruction}][_dir-{direction}][_run-{run}][_part-{part}][_chunk-<index>]_{suffix<dwi>}{extension<.bval|.bvec|.json|.nii.gz|.nii>|.nii.gz}',\n",
       " 'sub-{subject}[/ses-{session}]/{datatype<dwi>|dwi}/sub-{subject}[_ses-{session}][_acq-{acquisition}][_rec-{reconstruction}][_dir-{direction}][_run-{run}][_part-{part}][_chunk-<index>]_{suffix<sbref>}{extension<.json|.nii.gz|.nii>|.nii.gz}',\n",
       " 'sub-{subject}[/ses-{session}]/{datatype<fmap>|fmap}/sub-{subject}[_ses-{session}][_acq-{acquisition}][_dir-{direction}][_run-{run}]_{suffix<phasediff|magnitude[12]|phase[12]|fieldmap>}{extension<.nii|.nii.gz|.json>|.nii.gz}',\n",
       " 'sub-{subject}[/ses-{session}]/{datatype<fmap>|fmap}/sub-{subject}[_ses-{session}][_acq-{acquisition}][_ce-{ceagent}]_dir-{direction}[_run-{run}]_{suffix<epi|m0scan>}{extension<.nii|.nii.gz|.json>|.nii.gz}',\n",
       " 'sub-{subject}[/ses-{session}]/{datatype<func|meg|beh>|func}/sub-{subject}[_ses-{session}]_task-{task}[_acq-{acquisition}][_rec-{reconstruction}][_run-{run}][_echo-{echo}][_recording-{recording}]_{suffix<events>}{extension<.tsv|.json>|.tsv}',\n",
       " 'sub-{subject}[/ses-{session}]/[{datatype<func|beh>|func}/]sub-{subject}[_ses-{session}]_task-{task}[_acq-{acquisition}][_rec-{reconstruction}][_run-{run}][_echo-{echo}][_recording-{recording}]_{suffix<physio|stim>}{extension<.tsv.gz|.json>|.tsv.gz}',\n",
       " 'sub-{subject}[/ses-{session}]/{datatype<meg>|meg}/sub-{subject}[_ses-{session}]_task-{task}[_acq-{acquisition}][_run-{run}][_proc-{proc}]_{suffix<meg>}{extension}',\n",
       " 'sub-{subject}[/ses-{session}]/{datatype<meg>|meg}/sub-{subject}[_ses-{session}]_task-{task}[_acq-{acquisition}][_run-{run}][_proc-{proc}]_{suffix<channels>}{extension<.tsv|.json>|.tsv}',\n",
       " 'sub-{subject}[/ses-{session}]/{datatype<meg>|meg}/sub-{subject}[_ses-{session}][_acq-{acquisition}]_{suffix<coordsystem>}{extension<.json>|.json}',\n",
       " 'sub-{subject}[/ses-{session}]/{datatype<meg>|meg}/sub-{subject}[_ses-{session}][_acq-{acquisition}]_{suffix<headshape>}{extension<.pos>|.pos}',\n",
       " 'sub-{subject}[/ses-{session}]/{datatype<meg>|meg}/sub-{subject}[_ses-{session}]_acq-{acquisition<calibration|crosstalk>}_{suffix<meg>|meg}{extension<.fif|.dat>}',\n",
       " 'sub-{subject}[/ses-{session}]/{datatype<motion>|motion}/sub-{subject}[_ses-{session}]_task-{task}_tracksys-{tracksys}[_acq-{acquisition}][_run-{run}]_{suffix<motion|channels>|motion}{extension<.tsv|.json>|.tsv}',\n",
       " 'sub-{subject}[/ses-{session}]/{datatype<mrs>|mrs}/sub-{subject}[_ses-{session}][_task-{task}][_acq-{acquisition}][_nuc-{nucleus}][_voi-{volume}][_rec-{reconstruction}][_run-{run}][_echo-{echo}][_inv-{inv}]_{suffix<svs|mrsi|unloc|mrsref>}{extension<.nii|.nii.gz|.json>|.nii.gz}',\n",
       " 'sub-{subject}[/ses-{session}]/{datatype<eeg>|eeg}/sub-{subject}[_ses-{session}]_task-{task}[_acq-{acquisition}][_run-{run}]_{suffix<eeg>}{extension<.edf|.vhdr|.vmrk|.eeg|.set|.fdt|.bdf|.json>}',\n",
       " 'sub-{subject}[/ses-{session}]/{datatype<nirs>|nirs}/sub-{subject}[_ses-{session}]_task-{task}[_acq-{acquisition}][_run-{run}]_{suffix<nirs>}{extension<.snirf|.json>}',\n",
       " 'sub-{subject}[/ses-{session}]/{datatype<nirs>|nirs}/sub-{subject}[_ses-{session}]_task-{task}[_acq-{acquisition}][_run-{run}]_{suffix<events|channels>}{extension<.tsv|.json>}',\n",
       " 'sub-{subject}[/ses-{session}]/{datatype<nirs>|nirs}/sub-{subject}[_ses-{session}]_task-{task}[_acq-{acquisition}][_run-{run}][_recording-{recording}]_{suffix<physio|stim>}{extension<.tsv.gz|.json>}',\n",
       " 'sub-{subject}[/ses-{session}]/{datatype<nirs>|nirs}/sub-{subject}[_ses-{session}][_acq-{acquisition}]_{suffix<optodes>}{extension<.tsv|.json>}',\n",
       " 'sub-{subject}[/ses-{session}]/{datatype<nirs>|nirs}/sub-{subject}[_ses-{session}][_acq-{acquisition}]_{suffix<coordsystem>}{extension<.json>}',\n",
       " 'sub-{subject}[/ses-{session}]/{datatype<ieeg>|ieeg}/sub-{subject}[_ses-{session}]_task-{task}[_acq-{acquisition}][_run-{run}]_{suffix<ieeg>}{extension<.mefd/|.json|.edf|.vhdr|.eeg|.vmrk|.set|.fdt|.nwb|.json>}',\n",
       " 'sub-{subject}[/ses-{session}]/{datatype<eeg|ieeg>}/sub-{subject}[_ses-{session}]_task-{task}[_acq-{acquisition}][_run-{run}]_{suffix<channels|events>}{extension<.tsv|.json>|.tsv}',\n",
       " 'sub-{subject}[/ses-{session}]/{datatype<eeg|ieeg>}/sub-{subject}[_ses-{session}][_acq-{acquisition}][_space-{space}]_{suffix<coordsystem>}{extension<.json>|.json}',\n",
       " 'sub-{subject}[/ses-{session}]/{datatype<eeg|ieeg>}/sub-{subject}[_ses-{session}][_acq-{acquisition}][_space-{space}]_{suffix<electrodes>}{extension<.tsv|.json>|.tsv}',\n",
       " 'sub-{subject}[/ses-{session}]/{datatype<eeg|ieeg|meg>}/sub-{subject}[_ses-{session}][_acq-{acquisition}]_{suffix<photo>|photo}{extension<.jpg>}',\n",
       " 'sub-{subject}[/ses-{session}]/{datatype<eeg>|eeg}/sub-{subject}[_ses-{session}]_task-{task}[_acq-{acquisition}][_run-{run}][_recording-{recording}]_{suffix<physio>}{extension<.tsv.gz|.json>}',\n",
       " 'sub-{subject}[/ses-{session}]/{datatype<micr>|micr}/sub-{subject}[_ses-{session}]_sample-{sample}[_acq-{acquisition}][_stain-{staining}][_run-{run}][_chunk-{chunk}]_{suffix<TEM|SEM|uCT|BF|DF|PC|DIC|FLUO|CONF|PLI|CARS|2PE|MPE|SR|NLO|OCT|SPIM>}{extension<.png|.tif|.ome.tif|.ome.btf|.json>}',\n",
       " 'sub-{subject}[/ses-{session}]/{datatype<micr>|micr}/sub-{subject}[_ses-{session}]_sample-{sample}[_acq-{acquisition}]_{suffix<photo>|photo}{extension<.jpg|.png|.tif|.json>}',\n",
       " 'sub-{subject}[/ses-{session}]/{datatype<anat>|anat}/sub-{subject}[_ses-{session}][_acq-{acquisition}][_ce-{ceagent}][_rec-{reconstruction}][_run-{run}][_echo-{echo}]_flip-{flip}[_part-{part<mag|phase|real|imag>}]_{suffix<VFA>}{extension<.nii|.nii.gz|.json>|.nii.gz}',\n",
       " 'sub-{subject}[/ses-{session}]/{datatype<anat>|anat}/sub-{subject}[_ses-{session}][_acq-{acquisition}][_ce-{ceagent}][_rec-{reconstruction}][_run-{run}]_inv-{inv}[_part-{part<mag|phase|real|imag>}]_{suffix<IRT1>}{extension<.nii|.nii.gz|.json>|.nii.gz}',\n",
       " 'sub-{subject}[/ses-{session}]/{datatype<anat>|anat}/sub-{subject}[_ses-{session}][_acq-{acquisition}][_ce-{ceagent}][_rec-{reconstruction}][_run-{run}][_echo-{echo}][_flip-{flip}]_inv-{inv}[_part-{part<mag|phase|real|imag>}]_{suffix<MP2RAGE>}{extension<.nii|.nii.gz|.json>|.nii.gz}',\n",
       " 'sub-{subject}[/ses-{session}]/{datatype<anat>|anat}/sub-{subject}[_ses-{session}][_acq-{acquisition}][_ce-{ceagent}][_rec-{reconstruction}][_run-{run}][_echo-{echo}]_flip-{flip}_mt-{mt<on|off>}[_part-{part<mag|phase|real|imag>}]_{suffix<MPM|MTS>}{extension<.nii|.nii.gz|.json>|.nii.gz}',\n",
       " 'sub-{subject}[/ses-{session}]/{datatype<anat>|anat}/sub-{subject}[_ses-{session}][_acq-{acquisition}][_ce-{ceagent}][_rec-{reconstruction}][_run-{run}]_mt-{mt<on|off>}[_part-{part<mag|phase|real|imag>}]_{suffix<MTR>}{extension<.nii|.nii.gz|.json>|.nii.gz}',\n",
       " 'sub-{subject}[/ses-{session}]/{datatype<anat>|anat}/sub-{subject}[_ses-{session}][_acq-{acquisition}][_ce-{ceagent}][_rec-{reconstruction}][_run-{run}]_{suffix<T1map|T2map|T2starmap|R1map|R2map|R2starmap|PDmap|MTRmap|MTsat|UNIT1|T1rho|MWFmap|MTVmap|PDT2map|Chimap|S0map|M0map>}{extension<.nii|.nii.gz|.json>|.nii.gz}',\n",
       " 'sub-{subject}[/ses-{session}]/{datatype<fmap>|fmap}/sub-{subject}[_ses-{session}][_acq-{acquisition}][_ce-{ceagent}][_rec-{reconstruction}][_run-{run}]_flip-{flip}[_inv-{inv}][_part-{part<mag|phase|real|imag>}]_{suffix<TB1DAM>}{extension<.nii|.nii.gz|.json>|.nii.gz}',\n",
       " 'sub-{subject}[/ses-{session}]/{datatype<fmap>|fmap}/sub-{subject}[_ses-{session}][_acq-{acquisition}][_ce-{ceagent}][_rec-{reconstruction}][_run-{run}]_echo-{echo}_flip-{flip}[_inv-{inv}][_part-{part<mag|phase|real|imag>}]_{suffix<TB1EPI>}{extension<.nii|.nii.gz|.json>|.nii.gz}',\n",
       " 'sub-{subject}[/ses-{session}]/{datatype<fmap>|fmap}/sub-{subject}[_ses-{session}][_acq-{acquisition}][_ce-{ceagent}][_rec-{reconstruction}][_run-{run}][_echo-{echo}][_flip-{flip}][_inv-{inv}][_part-{part<mag|phase|real|imag>}]_{suffix<TB1AFI|TB1TFL|TB1RFM|RB1COR>}{extension<.nii|.nii.gz|.json>|.nii.gz}',\n",
       " 'sub-{subject}[/ses-{session}]/{datatype<fmap>|fmap}/sub-{subject}[_ses-{session}][_acq-{acquisition}][_ce-{ceagent}][_rec-{reconstruction}][_run-{run}][_echo-{echo}]_flip-{flip}_inv-{inv}[_part-{part<mag|phase|real|imag>}]_{suffix<TB1SRGE>}{extension<.nii|.nii.gz|.json>|.nii.gz}',\n",
       " 'sub-{subject}[/ses-{session}]/{datatype<fmap>|fmap}/sub-{subject}[_ses-{session}][_acq-{acquisition}][_ce-{ceagent}][_rec-{reconstruction}][_run-{run}]_{suffix<TB1map|RB1map>}{extension<.nii|.nii.gz|.json>|.nii.gz}',\n",
       " 'sub-{subject}[/ses-{session}]/{datatype<pet>|pet}/sub-{subject}[_ses-{session}][_task-{task}][_trc-{tracer}][_rec-{reconstruction}][_run-{run}]_{suffix<pet>}{extension<.nii|.nii.gz|.json>|.nii.gz}',\n",
       " 'sub-{subject}[/ses-{session}]/{datatype<pet>|pet}/sub-{subject}[_ses-{session}][_task-{task}][_trc-{tracer}][_rec-{reconstruction}][_run-{run}]_recording-{recording}_{suffix<blood>}{extension<.tsv|.json>}',\n",
       " 'sub-{subject}[/ses-{session}]/{datatype<pet>|pet}/sub-{subject}[_ses-{session}]_task-{task}[_trc-{tracer}][_rec-{reconstruction}][_run-{run}]_{suffix<events>}{extension<.tsv|.json>}',\n",
       " 'sub-{subject}[/ses-{session}]/{datatype<pet>|pet}/sub-{subject}[_ses-{session}][_task-{task}][_trc-{tracer}][_rec-{reconstruction}][_run-{run}][_recording-{recording}]_{suffix<physio|stim>}{extension<.tsv.gz|.json>}',\n",
       " 'sub-{subject}[/ses-{session}]/{datatype<perf>|perf}/sub-{subject}[_ses-{session}][_acq-{acquisition}][_rec-{reconstruction}][_dir-{direction}][_run-{run}]_{suffix<asl|m0scan>}{extension<.nii|.nii.gz|.json>|.nii.gz}',\n",
       " 'sub-{subject}[/ses-{session}]/{datatype<perf>|perf}/sub-{subject}[_ses-{session}][_acq-{acquisition}][_rec-{reconstruction}][_dir-{direction}][_run-{run}]_{suffix<aslcontext>}{extension<.tsv|.json>}',\n",
       " 'sub-{subject}[/ses-{session}]/{datatype<perf>|perf}/sub-{subject}[_ses-{session}][_acq-{acquisition}][_rec-{reconstruction}][_run-{run}]_{suffix<asllabeling>}{extension<.jpg>}',\n",
       " 'sub-{subject}[/ses-{session}]/{datatype<perf>|perf}/sub-{subject}[_ses-{session}][_acq-{acquisition}][_rec-{reconstruction}][_dir-{direction}][_run-{run}][_recording{recording}]_{suffix<physio|stim>}{extension<.tsv|.json>}',\n",
       " '[task-{task}_][acq-{acquisition}_][ce-{ceagent}_][rec-{reconstruction}_][run-{run}_][echo-{echo}_][part-{part}_][chunk-{chunk}_]{suffix<T1w|T2w|T2star|T2starw|FLAIR|FLASH|PD|PDw|PDT2|inplaneT[12]|angio>}{extension<.json>|.json}',\n",
       " '[task-{task}_][acq-{acquisition}_][ce-{ceagent}_][rec-{reconstruction}_][run-{run}_][mod-{modality}_]{suffix<defacemask>}{extension<.json>|.json}',\n",
       " 'task-{task}[_acq-{acquisition}][_run-{run}]_{suffix<nirs>}{extension<.json>}',\n",
       " 'task-{task}[_acq-{acquisition}][_ce-{ceagent}][_dir-{direction}][_rec-{reconstruction}][_run-{run}][_echo-{echo}]_{suffix<bold|cbv|phase|sbref>}{extension<.json>|.json}',\n",
       " 'task-{task}_tracksys-{tracksys}[acq-{acquisition}_][run-{run}_]{suffix<motion>}{extension<.tsv|.json>}',\n",
       " '[task-{task}_][acq-{acquisition}_][nuc-{nucleus}_][voi-{volume}_][rec-{reconstruction}_][run-{run}_][echo-{echo}_][inv-{inv}_]{suffix<svs|mrsi|unloc|mrsref>}{extension<.json>|.json}',\n",
       " '[acq-{acquisition}_][rec-{reconstruction}_][dir-{direction}_][run-{run}_][part-{part}_][chunk-<index>_]{suffix<dwi>}{extension<.bval|.bvec|.json>|.json}',\n",
       " '[acq-{acquisition}_][rec-{reconstruction}_][dir-{direction}_][run-{run}_][part-{part}_][chunk-<index>_]{suffix<sbref>}{extension<.json>|.json}',\n",
       " '[acq-{acquisition}_][dir-{direction}_][run-{run}_]{suffix<phasediff|magnitude[1-2]|phase[1-2]|fieldmap>}{extension<.json>|.json}',\n",
       " '[acq-{acquisition}_][ce-{ceagent}_]dir-{direction}[_run-{run}]_{suffix<epi|m0scan>}{extension<.json>|.json}',\n",
       " 'task-{task}[_acq-{acquisition}][_rec-{reconstruction}][_run-{run}][_echo-{echo}][_recording-{recording}]_{suffix<events>}{extension<.json>|.json}',\n",
       " 'task-{task}[_acq-{acquisition}][_rec-{reconstruction}][_run-{run}][_echo-{echo}][_recording-{recording}]_{suffix<physio|stim>}{extension<.json>}',\n",
       " 'sample-{sample}[_acq-{acquisition}][_stain-{stain}][_run-{run}][_chunk-{chunk}]_{suffix<TEM|SEM|uCT|BF|DF|PC|DIC|FLUO|CONF|PLI|CARS|2PE|MPE|SR|NLO|OCT|SPIM>}{extension<.json>|.json}',\n",
       " '[acq-{acquisition}_][ce-{ceagent}_][rec-{reconstruction}_][run-{run}_]echo-{echo}[_part-{part<mag|phase|real|imag>}]_{suffix<MEGRE|MESE>}{extension<.json>|.json}',\n",
       " '[acq-{acquisition}_][ce-{ceagent}_][rec-{reconstruction}_][run-{run}_][echo-{echo}_]flip-{flip}[_part-{part<mag|phase|real|imag>}]_{suffix<VFA>}{extension<.json>|.json}',\n",
       " '[acq-{acquisition}_][ce-{ceagent}_][rec-{reconstruction}_][run-{run}_]inv-{inv}[_part-{part<mag|phase|real|imag>}]_{suffix<IRT1>}{extension<.json>|.json}',\n",
       " '[acq-{acquisition}_][ce-{ceagent}_][rec-{reconstruction}_][run-{run}_][echo-{echo}_][flip-{flip}_]inv-{inv}[_part-{part<mag|phase|real|imag>}]_{suffix<MP2RAGE>}{extension<.json>|.json}',\n",
       " '[acq-{acquisition}_][ce-{ceagent}_][rec-{reconstruction}_][run-{run}_][echo-{echo}_]flip-{flip}_mt-{mt<on|off>}[_part-{part<mag|phase|real|imag>}]_{suffix<MPM|MTS>}{extension<.json>|.json}',\n",
       " '[acq-{acquisition}_][ce-{ceagent}_][rec-{reconstruction}_][run-{run}_]mt-{mt<on|off>}[_part-{part<mag|phase|real|imag>}]_{suffix<MTR>}{extension<.json>|.json}',\n",
       " '[acq-{acquisition}_][ce-{ceagent}_][rec-{reconstruction}_][run-{run}_]{suffix<T1map|T2map|T2starmap|R1map|R2map|R2starmap|PDmap|MTRmap|MTsat|UNIT1|T1rho|MWFmap|MTVmap|PDT2map|Chimap|S0map|M0map>}{extension<.json>|.json}',\n",
       " '[task-{task}_][trc-{tracer}_][rec-{reconstruction}_][run-{run}_]{suffix<pet>}{extension<.json>|.json}',\n",
       " '[task-{task}_][trc-{tracer}_][rec-{reconstruction}_][run-{run}_]recording-{recording}_{suffix<blood>}{extension<.json>|.json}',\n",
       " 'task-{task}[_trc-{tracer}][_rec-{reconstruction}][_run-{run}]_{suffix<events>}{extension<.json>|.json}',\n",
       " '[task-{task}][_trc-{tracer}][_rec-{reconstruction}][_run-{run}][_recording-{recording}]_{suffix<physio|stim>}{extension<.json>|.json}',\n",
       " '[acq-{acquisition}_][rec-{reconstruction}_][dir-{direction}_][run-{run}_]{suffix<asl|m0scan>}{extension<.json>|.json}',\n",
       " '[acq-{acquisition}_][rec-{reconstruction}_][dir-{direction}_][run-{run}_]{suffix<aslcontext>}{extension<.json>|.json}',\n",
       " '[acq-{acquisition}_][rec-{reconstruction}_][dir-{direction}_][run-{run}_][recording-{recording}_]{suffix<physio|stim>}{extension<.json>|.json}']"
      ]
     },
     "execution_count": 17,
     "metadata": {},
     "output_type": "execute_result"
    }
   ],
   "source": [
    "cfg = layout.config['nibs']\n",
    "cfg.default_path_patterns"
   ]
  },
  {
   "cell_type": "code",
   "execution_count": null,
   "id": "86422db3-2447-4063-8b93-3d4a58dbd5c8",
   "metadata": {},
   "outputs": [],
   "source": []
  }
 ],
 "metadata": {
  "kernelspec": {
   "display_name": "Python 3 (ipykernel)",
   "language": "python",
   "name": "python3"
  },
  "language_info": {
   "codemirror_mode": {
    "name": "ipython",
    "version": 3
   },
   "file_extension": ".py",
   "mimetype": "text/x-python",
   "name": "python",
   "nbconvert_exporter": "python",
   "pygments_lexer": "ipython3",
   "version": "3.9.17"
  }
 },
 "nbformat": 4,
 "nbformat_minor": 5
}
